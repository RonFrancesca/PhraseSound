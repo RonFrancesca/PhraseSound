{
 "cells": [
  {
   "cell_type": "code",
   "execution_count": 18,
   "metadata": {},
   "outputs": [],
   "source": [
    "import numpy as np\n",
    "from gensim.models import KeyedVectors\n",
    "from itertools import repeat\n",
    "model_glove = KeyedVectors.load_word2vec_format('glove.6B.50d_word2vec.txt')"
   ]
  },
  {
   "cell_type": "code",
   "execution_count": 19,
   "metadata": {},
   "outputs": [],
   "source": [
    "def find_range(point, range_limits):\n",
    "    n_limits = len(range_limits)\n",
    "    for limit in range(n_limits - 1):\n",
    "        if (point > range_limits[limit]) and (point < range_limits[limit + 1]):\n",
    "            return limit\n",
    "    raise ValueError"
   ]
  },
  {
   "cell_type": "code",
   "execution_count": 20,
   "metadata": {},
   "outputs": [],
   "source": [
    "def colapse_into_25(space_50d):\n",
    "    ndim = space_50d.ndim\n",
    "    if ndim == 1:  # If a word embedding\n",
    "        space_25d = np.zeros(25)\n",
    "        for idx in range(25):\n",
    "            space_25d[idx] = np.sum(space_50d[idx*2:(idx+1)*2])\n",
    "    else:\n",
    "        space_25d = np.zeros([space_50d.shape[0], 25])\n",
    "        for idx in range(25):\n",
    "            space_25d[idx] = np.sum(space_50d[idx*2:(idx+1)*2],)\n",
    "    return space_25d"
   ]
  },
  {
   "cell_type": "code",
   "execution_count": 35,
   "metadata": {},
   "outputs": [],
   "source": [
    "def embspace_to_midi(word_embedding, n_words):\n",
    "    \"\"\"\n",
    "        word_embedding: The 50dim vector resulting of difference between multiple words embedding\n",
    "        n_words: Number of words used to create the word_embedding\n",
    "    \"\"\"\n",
    "    embedding = np.load('./mappings.npy')\n",
    "    reduced_25 = colapse_into_25(embedding)\n",
    "    maxs = np.max(reduced_25, axis=0)*n_words\n",
    "    mins = np.min(reduced_25, axis=0)*n_words\n",
    "    steps = (maxs - mins) / 129\n",
    "    mappings = np.array(list((map(np.arange, mins, maxs, steps))))\n",
    "\n",
    "    reduced_embedding = colapse_into_25(word_embedding)\n",
    "        \n",
    "    midi = np.zeros(25)\n",
    "    for dimension in range(25):\n",
    "        midi[dimension] = find_range(reduced_embedding[dimension], mappings[dimension])\n",
    "    return midi"
   ]
  },
  {
   "cell_type": "code",
   "execution_count": 36,
   "metadata": {},
   "outputs": [],
   "source": [
    "diffwords = model_glove['republican'] - model_glove['party']\n",
    "dist1 = embspace_to_midi(diffwords, 2)"
   ]
  },
  {
   "cell_type": "code",
   "execution_count": 37,
   "metadata": {},
   "outputs": [],
   "source": [
    "diffwords = model_glove['republican'] - model_glove['democratic']\n",
    "dist2 = embspace_to_midi(diffwords, 2)"
   ]
  },
  {
   "cell_type": "code",
   "execution_count": 38,
   "metadata": {},
   "outputs": [],
   "source": [
    "diffwords = model_glove['republican'] - model_glove['banana']\n",
    "dist3 = embspace_to_midi(diffwords, 2)"
   ]
  },
  {
   "cell_type": "code",
   "execution_count": 39,
   "metadata": {},
   "outputs": [],
   "source": [
    "diffwords = model_glove['republican'] - model_glove['avocado']\n",
    "dist4 = embspace_to_midi(diffwords, 2)"
   ]
  },
  {
   "cell_type": "code",
   "execution_count": 40,
   "metadata": {},
   "outputs": [
    {
     "name": "stdout",
     "output_type": "stream",
     "text": "44751.0\n46745.0\n41112.0\n40767.0\n"
    }
   ],
   "source": [
    "print(np.sum((dist1)**2))\n",
    "print(np.sum((dist2)**2))\n",
    "print(np.sum((dist3)**2))\n",
    "print(np.sum((dist4)**2))\n"
   ]
  },
  {
   "cell_type": "code",
   "execution_count": 41,
   "metadata": {},
   "outputs": [
    {
     "name": "stdout",
     "output_type": "stream",
     "text": "[42. 45. 45. 39. 43. 35. 42. 39. 43. 38. 38. 39. 39. 47. 46. 33. 40. 46.\n 41. 40. 46. 46. 45. 49. 47.]\n[42. 42. 46. 41. 43. 41. 44. 42. 42. 37. 43. 42. 39. 45. 44. 38. 46. 48.\n 44. 42. 46. 45. 46. 45. 46.]\n[44. 47. 45. 43. 29. 26. 39. 32. 43. 39. 44. 41. 33. 37. 40. 50. 24. 38.\n 48. 37. 46. 40. 35. 44. 54.]\n[43. 50. 46. 38. 35. 35. 35. 39. 39. 41. 48. 39. 30. 36. 44. 55. 28. 31.\n 46. 31. 49. 43. 34. 35. 45.]\n"
    }
   ],
   "source": [
    "print(dist1)\n",
    "print(dist2)\n",
    "print(dist3)\n",
    "print(dist4)"
   ]
  }
 ],
 "metadata": {
  "kernelspec": {
   "display_name": "Python 3",
   "language": "python",
   "name": "python3"
  },
  "language_info": {
   "codemirror_mode": {
    "name": "ipython",
    "version": 3
   },
   "file_extension": ".py",
   "mimetype": "text/x-python",
   "name": "python",
   "nbconvert_exporter": "python",
   "pygments_lexer": "ipython3",
   "version": "3.7.5-final"
  },
  "varInspector": {
   "cols": {
    "lenName": 16,
    "lenType": 16,
    "lenVar": 40
   },
   "kernels_config": {
    "python": {
     "delete_cmd_postfix": "",
     "delete_cmd_prefix": "del ",
     "library": "var_list.py",
     "varRefreshCmd": "print(var_dic_list())"
    },
    "r": {
     "delete_cmd_postfix": ") ",
     "delete_cmd_prefix": "rm(",
     "library": "var_list.r",
     "varRefreshCmd": "cat(var_dic_list()) "
    }
   },
   "types_to_exclude": [
    "module",
    "function",
    "builtin_function_or_method",
    "instance",
    "_Feature"
   ],
   "window_display": false
  }
 },
 "nbformat": 4,
 "nbformat_minor": 2
}